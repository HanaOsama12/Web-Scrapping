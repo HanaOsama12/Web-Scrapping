{
 "cells": [
  {
   "cell_type": "code",
   "execution_count": null,
   "metadata": {},
   "outputs": [],
   "source": [
    "import requests\n",
    "from bs4 import BeautifulSoup"
   ]
  },
  {
   "cell_type": "code",
   "execution_count": null,
   "metadata": {},
   "outputs": [],
   "source": [
    "#url=\"https://www.hotels.com/?locale=en_GB&pos=HCOM_ME&siteid=310000033\"\n",
    "#url=\"https://www.booking.com/\"\n",
    "x = input(\"Enter a url\")\n",
    "url=x\n",
    "link=requests.get(url).text\n",
    "website = BeautifulSoup(link,'lxml')\n",
    "print(website.prettify())"
   ]
  },
  {
   "cell_type": "code",
   "execution_count": null,
   "metadata": {
    "scrolled": true
   },
   "outputs": [],
   "source": [
    "img=website.find_all('img') #finding all images\n",
    "#img\n",
    "for i in img: \n",
    "    im_link=i['src']\n",
    "    print(im_link)"
   ]
  },
  {
   "cell_type": "code",
   "execution_count": null,
   "metadata": {
    "scrolled": true
   },
   "outputs": [],
   "source": [
    "x = 0 #varible x to name the images when downloaded\n",
    "for i in img:\n",
    "    x=x+1 \n",
    "    im_link=i['src'] #link for every image\n",
    "    print(im_link)\n",
    "    if '.jpg' in im_link:  # finds all the jpg images only\n",
    "        with open(\"{}.jpg\".format(x),'wb') as f: # saving the image with name x.jpg\n",
    "         f.write(requests.get(url=im_link).content)  #downloading \n",
    "        #print(im_link)\n",
    "    elif '.png' in im_link:  # finds all the png images only\n",
    "        with open(\"{}.png\".format(x),'wb') as f: # saving the image with name x.png\n",
    "         f.write(requests.get(url=im_link).content)  #downloading \n",
    "        #print(im_link)\n",
    "    else:\n",
    "        pass # if image is not jpg pass it \n",
    "    \n",
    "    "
   ]
  },
  {
   "cell_type": "code",
   "execution_count": null,
   "metadata": {},
   "outputs": [],
   "source": []
  }
 ],
 "metadata": {
  "kernelspec": {
   "display_name": "Python 3",
   "language": "python",
   "name": "python3"
  },
  "language_info": {
   "codemirror_mode": {
    "name": "ipython",
    "version": 3
   },
   "file_extension": ".py",
   "mimetype": "text/x-python",
   "name": "python",
   "nbconvert_exporter": "python",
   "pygments_lexer": "ipython3",
   "version": "3.8.5"
  }
 },
 "nbformat": 4,
 "nbformat_minor": 4
}
